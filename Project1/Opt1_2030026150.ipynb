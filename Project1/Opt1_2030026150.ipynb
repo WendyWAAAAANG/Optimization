{
 "cells": [
  {
   "attachments": {},
   "cell_type": "markdown",
   "metadata": {},
   "source": [
    "# DS4003 Optimization Methods Project\n",
    "## Standard Form of Linear\n",
    "### Author: Ruoxin WANG\n",
    "### Student ID: 2030026150\n",
    "#### Date: 2023/03/07"
   ]
  },
  {
   "cell_type": "code",
   "execution_count": 1,
   "metadata": {},
   "outputs": [],
   "source": [
    "# Author: Ruoxin WANG\n",
    "# Student ID: 2030026150\n",
    "# Date: 2023/03/07"
   ]
  },
  {
   "cell_type": "code",
   "execution_count": 2,
   "metadata": {},
   "outputs": [],
   "source": [
    "# import necessary packages.\n",
    "from scipy.optimize import linprog\n",
    "import numpy as np"
   ]
  },
  {
   "attachments": {},
   "cell_type": "markdown",
   "metadata": {},
   "source": [
    "### Question 1\n",
    "Read the linprog guide example and complete following questions.\n",
    "\n",
    "(a) (7 points) Transform the problem to the standard form (1) of linear programming. Specify\n",
    "that c, Aup, Aeq, bup, beq, l and u.\n",
    "\n",
    "(b) (3 points) Execute the python code in the guide."
   ]
  },
  {
   "cell_type": "code",
   "execution_count": 3,
   "metadata": {},
   "outputs": [],
   "source": [
    "# Question 1.\n",
    "# a. Transform the problem to the standard form (1) of linear programming. \n",
    "# max --> min(-f(x))\n",
    "# specify matrixes.\n",
    "# c @ x\n",
    "c = np.array([-29, -45, 0, 0]).transpose()\n",
    "# A_ub @ x <= b_ub\n",
    "A_ub = np.array([[1, -1, -3, 0], [-2, 3, 7, -3]])\n",
    "b_ub = np.array([5, -10])\n",
    "# A_eq @ x == b_eq\n",
    "A_eq = np.array([[2, 8, 1, 0], [4, 4, 0, 1]])\n",
    "b_eq = np.array([60, 60])\n",
    "# lb <= x <= ub\n",
    "x1_bounds = (0, None)\n",
    "x2_bounds = (0, 5)\n",
    "x3_bounds = (None, 0.5)\n",
    "x4_bounds = (-3, None)"
   ]
  },
  {
   "cell_type": "code",
   "execution_count": 4,
   "metadata": {},
   "outputs": [
    {
     "name": "stdout",
     "output_type": "stream",
     "text": [
      "Optimize value = -370.23223964124924\n",
      "Opt_variable value = [ 6.60059411  3.9736669  -0.52664072  1.09008012]\n",
      "Optimize message: The algorithm terminated successfully and determined that the problem is infeasible.\n"
     ]
    }
   ],
   "source": [
    "# b. Exclude the python code in the guide.\n",
    "res = linprog(c, A_ub=A_ub, b_ub=b_ub, A_eq=A_eq, b_eq=b_eq, bounds=[x1_bounds, x2_bounds, x3_bounds, x4_bounds])\n",
    "# print out result.\n",
    "print('Optimize value =', res.fun)\n",
    "print('Opt_variable value =', res.x)\n",
    "print('Optimize message:', res.message)"
   ]
  },
  {
   "attachments": {},
   "cell_type": "markdown",
   "metadata": {},
   "source": [
    "### Question 2\n",
    "Consider the following problem:\n",
    "\n",
    "(a) (14 points) Convert the following problem to standard form.\n",
    "\n",
    "(b) (6 points) Solve it with linprog"
   ]
  },
  {
   "cell_type": "code",
   "execution_count": 5,
   "metadata": {},
   "outputs": [],
   "source": [
    "# Question 2.\n",
    "# a. Convert the following problem to standard form.\n",
    "# max --> min(-f(x))\n",
    "# specify matrixes.\n",
    "# c @ x\n",
    "c = np.array([-1, -4, -1]).transpose()\n",
    "# A_ub @ x <= b_ub\n",
    "# A_eq @ x == b_eq\n",
    "A_eq = np.array([[2, -2, 1], [1, 0, -1]])\n",
    "b_eq = np.array([4, 1])\n",
    "# lb <= x <= ub\n",
    "x1_bounds = (1, None)\n",
    "x2_bounds = (0, None)\n",
    "x3_bounds = (0, None)"
   ]
  },
  {
   "cell_type": "code",
   "execution_count": 6,
   "metadata": {},
   "outputs": [
    {
     "name": "stdout",
     "output_type": "stream",
     "text": [
      "Optimize value = -376500964242.97833\n",
      "Opt_variable value = [4.70626205e+10 7.05939308e+10 4.70626205e+10]\n",
      "Optimize message: The algorithm terminated successfully and determined that the problem is unbounded.\n"
     ]
    }
   ],
   "source": [
    "# b. solve it with linprog.\n",
    "res = linprog(c, A_eq=A_eq, b_eq=b_eq, bounds=[x1_bounds, x2_bounds, x3_bounds])\n",
    "# print out result.\n",
    "print('Optimize value =', res.fun)\n",
    "print('Opt_variable value =', res.x)\n",
    "print('Optimize message:', res.message)"
   ]
  },
  {
   "attachments": {},
   "cell_type": "markdown",
   "metadata": {},
   "source": [
    "### Question 3\n",
    "Follow the steps of in question 1. Solve the following to linear programming pro- gram\n",
    "\n",
    "(a) (21 points) Convert the following problem to standard form.\n",
    "\n",
    "(b) (9 points) Solve it with linprog"
   ]
  },
  {
   "cell_type": "code",
   "execution_count": 7,
   "metadata": {},
   "outputs": [],
   "source": [
    "# Question 3.\n",
    "# a. Convert the following problem to standard form.\n",
    "# specify matrixes.\n",
    "# c @ x\n",
    "c = np.array([1, 2, 3]).transpose()\n",
    "# A_ub @ x <= b_ub\n",
    "A_ub = np.array([[1, 1, 0], [-1, -1, 0], [1, 0, 1], [-1, 0, -1]])\n",
    "b_ub = np.array([3, -2, 5, -4])\n",
    "# A_eq @ x == b_eq\n",
    "# lb <= x <= ub\n",
    "x1_bounds = (0, None)\n",
    "x2_bounds = (0, None)\n",
    "x3_bounds = (0, None)"
   ]
  },
  {
   "cell_type": "code",
   "execution_count": 8,
   "metadata": {},
   "outputs": [
    {
     "name": "stdout",
     "output_type": "stream",
     "text": [
      "Optimize value = 5.999999993369687\n",
      "Opt_variable value = [2.99999999e+00 1.90162796e-09 9.99999999e-01]\n",
      "Optimize message: Optimization terminated successfully.\n"
     ]
    }
   ],
   "source": [
    "# b. solve it with linprog.\n",
    "res = linprog(c, A_ub=A_ub, b_ub=b_ub, bounds=[x1_bounds, x2_bounds, x3_bounds])\n",
    "# print out result.\n",
    "print('Optimize value =', res.fun)\n",
    "print('Opt_variable value =', res.x)\n",
    "print('Optimize message:', res.message)"
   ]
  },
  {
   "attachments": {},
   "cell_type": "markdown",
   "metadata": {},
   "source": [
    "### Question 4\n",
    "A large textile firm has two manufacturing plants, two sources of raw material, and three market centers. The transportation costs between the sources and the plants and between the plants and the markets are as follows:\n",
    "\n",
    "Ten tons are available from source 1 and 15 tons from source 2. The three market centers require 8 tons, 14 tons and 3 tons. The plants have unlimited processing capacity.\n",
    "\n",
    "(a) (20 points) Formulate the problem of finding the shipping patterns from sources to plants to markets that minimizes the total transportation cost.\n",
    "\n",
    "(b) (10 points) Solve the problem with linprog."
   ]
  },
  {
   "cell_type": "code",
   "execution_count": 9,
   "metadata": {},
   "outputs": [],
   "source": [
    "# Question 4.\n",
    "# a. Formulate the problem of finding the shipping patterns from sources\n",
    "# to plants to markets that minimizes the total transportation cost."
   ]
  },
  {
   "cell_type": "code",
   "execution_count": 10,
   "metadata": {},
   "outputs": [],
   "source": [
    "# a.1\n",
    "# For 1st stage: sources of raw material --> manufacturing plants.\n",
    "# let src1 --> pltA == x_1; src2 --> pltA == x_2.\n",
    "# so src1 --> pltB == 10-x_1; src2 --> pltB == 15-x_2.\n",
    "# specify matrixes.\n",
    "# c @ x = 3750-50*x_1+50x_2\n",
    "c_1 = np.array([-50, 50]).transpose()\n",
    "# A_ub @ x <= b_ub\n",
    "# A_eq @ x == b_eq\n",
    "# lb <= x <= ub\n",
    "x1_bounds = (0, 10)\n",
    "x2_bounds = (0, 15)"
   ]
  },
  {
   "cell_type": "code",
   "execution_count": 11,
   "metadata": {},
   "outputs": [
    {
     "name": "stdout",
     "output_type": "stream",
     "text": [
      "Optimize value = 3250.0\n",
      "Opt_variable value = [10.  0.]\n",
      "Optimize message: The solution was determined in presolve as there are no non-trivial constraints.\n"
     ]
    }
   ],
   "source": [
    "# b.1 Solve the problem with linprog for 1st stage.\n",
    "res_1 = linprog(c_1, bounds=[x1_bounds, x2_bounds])\n",
    "# print out result.\n",
    "print('Optimize value =', res_1.fun+3750)\n",
    "print('Opt_variable value =', res_1.x)\n",
    "print('Optimize message:', res_1.message)"
   ]
  },
  {
   "cell_type": "code",
   "execution_count": 12,
   "metadata": {},
   "outputs": [],
   "source": [
    "# a.2\n",
    "# For 2nd stage: manufacturing plants --> market centers.\n",
    "# And according to stage1, we have already found the opt distribution of [x_1, x_2],\n",
    "# know we can apply it into stage2.\n",
    "# let pltA --> mkt1 == y_1; pltA --> mkt2 == y_2; pltB --> mkt1 == y_3; pltB --> mkt2 == y_4.\n",
    "# so pltA --> mkt3 == (x_1+x_2)-y_1-y_2; pltB --> mkt3 == (25-(x_1+x_2))-y_3-y_4.\n",
    "# specify matrixes.\n",
    "# c @ x = 100*x[0]+200*x[1]+300*y_1+100*y_2+100*y_3+200*y_4.\n",
    "c_2 = np.array([300, 100, 100, 200]).transpose()\n",
    "# A_ub @ x <= b_ub\n",
    "# A_eq @ x == b_eq\n",
    "A_eq = [[1, 0, 1, 0], [0, 1, 0, 1], [1, 1, 1, 1]]\n",
    "b_eq = [8, 14, 22]\n",
    "# lb <= x <= ub\n",
    "x1_bounds = (0, 8)\n",
    "x2_bounds = (0, 14)\n",
    "x3_bounds = (0, 8)\n",
    "x4_bounds = (0, 14)"
   ]
  },
  {
   "cell_type": "code",
   "execution_count": 13,
   "metadata": {},
   "outputs": [
    {
     "name": "stdout",
     "output_type": "stream",
     "text": [
      "Optimize value = 2199.999999940019\n",
      "Opt_variable value = [7.89056625e-12 1.40000000e+01 8.00000000e+00 4.56187178e-12]\n",
      "Optimize message: Optimization terminated successfully.\n"
     ]
    },
    {
     "name": "stderr",
     "output_type": "stream",
     "text": [
      "/var/folders/8w/sn11s_wx5kbgmhv0z3gpxttw0000gn/T/ipykernel_40170/3154922914.py:2: OptimizeWarning: A_eq does not appear to be of full row rank. To improve performance, check the problem formulation for redundant equality constraints.\n",
      "  res_2 = linprog(c_2, A_eq=A_eq, b_eq=b_eq, bounds=[x1_bounds, x2_bounds, x3_bounds, x4_bounds])\n"
     ]
    }
   ],
   "source": [
    "# b.2 Solve the problem with linprog for 2nd stage.\n",
    "res_2 = linprog(c_2, A_eq=A_eq, b_eq=b_eq, bounds=[x1_bounds, x2_bounds, x3_bounds, x4_bounds])\n",
    "# print out result.\n",
    "print('Optimize value =', res_2.fun)\n",
    "print('Opt_variable value =', res_2.x)\n",
    "print('Optimize message:', res_2.message)"
   ]
  },
  {
   "cell_type": "code",
   "execution_count": 14,
   "metadata": {},
   "outputs": [
    {
     "name": "stdout",
     "output_type": "stream",
     "text": [
      "5449.999999940019\n"
     ]
    }
   ],
   "source": [
    "# finally, add up two stages is out final result.\n",
    "result = float(res_1.fun + 3750) + float(res_2.fun)\n",
    "print(result)"
   ]
  },
  {
   "attachments": {},
   "cell_type": "markdown",
   "metadata": {},
   "source": [
    "### Question 5\n",
    "(20 points) A businessman is considering an investment project. The project has a lifetime of four years, with cash flows of -¥100,000, +¥50,000, +¥70,000, +¥30,000 in each of the four years, respectively. At any time he may borrow funds at the rates of 12%, 22%,and 34%(total) for 1, 2, 3 periods, respectively. He may also loan fund at 10% per period. He calculate the present value of a project as the maximum amount of money he would pay now, to another party, for the project, assuming that he has no cash on hand and must borrow and lend to pay the other party and operate the project while maintaining a non-negative cash balance after all debts are paid. Formulate the project valuation problem in a linear programming framework."
   ]
  },
  {
   "cell_type": "code",
   "execution_count": 15,
   "metadata": {},
   "outputs": [],
   "source": [
    "# Question 5.\n",
    "# here I set 7 variables:\n",
    "# x1, x2, x3 -- number of $ that businessman borrowed at first three years;\n",
    "# x4, x5, x6, x7 -- number of $ that business loaned during four years.\n",
    "# so as for objective function, we want to maximize:\n",
    "# c @ x = 0.12x1 + 0.22x2 + 0.34x3 - 0.1x4 - 0.1x5 - 0.1x6 - 0.1x7\n",
    "c = np.array([-0.12, -0.22, -0.34, 0.1, 0.1, 0.1, 0.1]).transpose()\n",
    "# and as for constraints, we have equations:\n",
    "# 0.12x1 - 0.1x4 = -100,000\n",
    "# 0.12x1 + 0.22x2 - 0.1x4 - 0.1x5 = 50,000\n",
    "# 0.12x1 + 0.22x2 + 0.34x3 - 0.1x4 - 0.1x5 - 0.1x6 = 70,000\n",
    "# 0.12x1 + 0.22x2 + 0.34x3 - 0.1x4 - 0.1x5 - 0.1x6 -0.1x7 = 30,000\n",
    "# A_eq @ x == b_eq\n",
    "A_eq = np.array([[0.12, 0, 0, -0.1, 0, 0, 0], [0.12, 0.22, 0, -0.1, -0.1, 0, 0], [0.12, 0.22, 0.34, -0.1, -0.1, -0.1, 0], [0.12, 0.22, 0.34, -0.1, -0.1, -0.1, -0.1]])\n",
    "b_eq = np.array([-100000, 50000, 70000, 30000])\n",
    "# and we have bounds X >= 0.\n",
    "# lb <= x <= ub\n",
    "x_bounds = [(0, None), (0, None), (0, None), (0, None), (0, None), (0, None), (0, None)]"
   ]
  },
  {
   "cell_type": "code",
   "execution_count": 16,
   "metadata": {},
   "outputs": [
    {
     "name": "stdout",
     "output_type": "stream",
     "text": [
      "Optimize value = -29999.999999254767\n",
      "Opt_variable value = [ 402249.49797615  954810.66092756  328475.98413894 1482699.39754654\n",
      "  600583.45407789  916818.34607736  399999.99999006]\n",
      "Optimize message: Optimization terminated successfully.\n"
     ]
    }
   ],
   "source": [
    "# solve the problem with linprog.\n",
    "res = linprog(c = c, A_eq = A_eq, b_eq = b_eq, bounds = x_bounds)\n",
    "# print out result.\n",
    "print('Optimize value =', res.fun)\n",
    "print('Opt_variable value =', res.x)\n",
    "print('Optimize message:', res.message)"
   ]
  },
  {
   "cell_type": "code",
   "execution_count": 23,
   "metadata": {},
   "outputs": [],
   "source": [
    "# Question 5.\n",
    "# here I set 7 variables:\n",
    "# x1, x2, x3 -- number of $ that businessman borrowed at first three years;\n",
    "# x4, x5, x6, x7 -- number of $ that business loaned during four years.\n",
    "# so as for objective function, we want to maximize:\n",
    "# c @ x = 0.12x1 + 0.22x2 + 0.34x3 - 0.1x4 - 0.1x5 - 0.1x6 - 0.1x7\n",
    "c = np.array([-0.12, -0.22, -0.34, 0.1, 0.1, 0.1, 0.1]).transpose()\n",
    "# and as for constraints, we have equations:\n",
    "# 0.12x1 - 0.1x4 = -100,000\n",
    "# 0.12x1 + 0.22x2 - 0.1x4 - 0.1x5 = 50,000\n",
    "# 0.12x1 + 0.22x2 + 0.34x3 - 0.1x4 - 0.1x5 - 0.1x6 = 70,000\n",
    "# 0.12x1 + 0.22x2 + 0.34x3 - 0.1x4 - 0.1x5 - 0.1x6 -0.1x7 = 30,000\n",
    "# A_eq @ x == b_eq\n",
    "A_ub = np.array([[0.12, 0, 0, -0.1, 0, 0, 0], [-1.12, 0.22, 0, 1.1, 0, 0, 0], [0, -1.22, 0.34, 0, 1.1, 0, 0], [0, 0, -1.34, 0, 0, 1.1, 0]])\n",
    "b_ub = np.array([-100000, 50000, 70000, 30000])\n",
    "# and we have bounds X >= 0.\n",
    "# lb <= x <= ub\n",
    "x_bounds = [(0, None), (0, None), (0, None), (0, None), (0, None), (0, None), (0, None)]"
   ]
  },
  {
   "cell_type": "code",
   "execution_count": 24,
   "metadata": {},
   "outputs": [
    {
     "name": "stdout",
     "output_type": "stream",
     "text": [
      "Optimize value = -11735572.63809947\n",
      "Opt_variable value = [2.01342191e+06 9.24400095e+06 3.03150014e+07 2.26032235e+03\n",
      " 2.76982985e+05 8.18894343e+06 0.00000000e+00]\n",
      "Optimize message: The algorithm terminated successfully and determined that the problem is infeasible.\n"
     ]
    }
   ],
   "source": [
    "# solve the problem with linprog.\n",
    "res = linprog(c = c, A_ub = A_ub, b_ub = b_ub, bounds = x_bounds)\n",
    "# print out result.\n",
    "print('Optimize value =', res.fun)\n",
    "print('Opt_variable value =', res.x)\n",
    "print('Optimize message:', res.message)"
   ]
  },
  {
   "cell_type": "code",
   "execution_count": null,
   "metadata": {},
   "outputs": [],
   "source": []
  }
 ],
 "metadata": {
  "kernelspec": {
   "display_name": "Python 3",
   "language": "python",
   "name": "python3"
  },
  "language_info": {
   "codemirror_mode": {
    "name": "ipython",
    "version": 3
   },
   "file_extension": ".py",
   "mimetype": "text/x-python",
   "name": "python",
   "nbconvert_exporter": "python",
   "pygments_lexer": "ipython3",
   "version": "3.9.12"
  }
 },
 "nbformat": 4,
 "nbformat_minor": 4
}
